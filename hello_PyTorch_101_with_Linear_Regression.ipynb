{
 "cells": [
  {
   "cell_type": "markdown",
   "id": "0dc5e2e6",
   "metadata": {},
   "source": [
    "# Hello PyTorch 101 with Linear Regression Example"
   ]
  },
  {
   "cell_type": "code",
   "execution_count": 1,
   "id": "81e33923",
   "metadata": {},
   "outputs": [],
   "source": [
    "# Prerequisites\n",
    "import numpy as np\n",
    "import pandas as pd\n",
    "import seaborn as sns\n",
    "\n",
    "import torch\n",
    "import torch.nn as nn \n"
   ]
  },
  {
   "cell_type": "markdown",
   "id": "ec3ffbe1",
   "metadata": {},
   "source": [
    "### Get Dataset"
   ]
  },
  {
   "cell_type": "code",
   "execution_count": 2,
   "id": "a08a2c50",
   "metadata": {},
   "outputs": [
    {
     "data": {
      "application/vnd.microsoft.datawrangler.viewer.v0+json": {
       "columns": [
        {
         "name": "index",
         "rawType": "int64",
         "type": "integer"
        },
        {
         "name": "Unnamed: 0",
         "rawType": "object",
         "type": "string"
        },
        {
         "name": "mpg",
         "rawType": "float64",
         "type": "float"
        },
        {
         "name": "cyl",
         "rawType": "int64",
         "type": "integer"
        },
        {
         "name": "disp",
         "rawType": "float64",
         "type": "float"
        },
        {
         "name": "hp",
         "rawType": "int64",
         "type": "integer"
        },
        {
         "name": "drat",
         "rawType": "float64",
         "type": "float"
        },
        {
         "name": "wt",
         "rawType": "float64",
         "type": "float"
        },
        {
         "name": "qsec",
         "rawType": "float64",
         "type": "float"
        },
        {
         "name": "vs",
         "rawType": "int64",
         "type": "integer"
        },
        {
         "name": "am",
         "rawType": "int64",
         "type": "integer"
        },
        {
         "name": "gear",
         "rawType": "int64",
         "type": "integer"
        },
        {
         "name": "carb",
         "rawType": "int64",
         "type": "integer"
        }
       ],
       "ref": "1518c13e-44ff-45b5-9463-128ce02f7b28",
       "rows": [
        [
         "0",
         "Mazda RX4",
         "21.0",
         "6",
         "160.0",
         "110",
         "3.9",
         "2.62",
         "16.46",
         "0",
         "1",
         "4",
         "4"
        ],
        [
         "1",
         "Mazda RX4 Wag",
         "21.0",
         "6",
         "160.0",
         "110",
         "3.9",
         "2.875",
         "17.02",
         "0",
         "1",
         "4",
         "4"
        ],
        [
         "2",
         "Datsun 710",
         "22.8",
         "4",
         "108.0",
         "93",
         "3.85",
         "2.32",
         "18.61",
         "1",
         "1",
         "4",
         "1"
        ],
        [
         "3",
         "Hornet 4 Drive",
         "21.4",
         "6",
         "258.0",
         "110",
         "3.08",
         "3.215",
         "19.44",
         "1",
         "0",
         "3",
         "1"
        ],
        [
         "4",
         "Hornet Sportabout",
         "18.7",
         "8",
         "360.0",
         "175",
         "3.15",
         "3.44",
         "17.02",
         "0",
         "0",
         "3",
         "2"
        ]
       ],
       "shape": {
        "columns": 12,
        "rows": 5
       }
      },
      "text/html": [
       "<div>\n",
       "<style scoped>\n",
       "    .dataframe tbody tr th:only-of-type {\n",
       "        vertical-align: middle;\n",
       "    }\n",
       "\n",
       "    .dataframe tbody tr th {\n",
       "        vertical-align: top;\n",
       "    }\n",
       "\n",
       "    .dataframe thead th {\n",
       "        text-align: right;\n",
       "    }\n",
       "</style>\n",
       "<table border=\"1\" class=\"dataframe\">\n",
       "  <thead>\n",
       "    <tr style=\"text-align: right;\">\n",
       "      <th></th>\n",
       "      <th>Unnamed: 0</th>\n",
       "      <th>mpg</th>\n",
       "      <th>cyl</th>\n",
       "      <th>disp</th>\n",
       "      <th>hp</th>\n",
       "      <th>drat</th>\n",
       "      <th>wt</th>\n",
       "      <th>qsec</th>\n",
       "      <th>vs</th>\n",
       "      <th>am</th>\n",
       "      <th>gear</th>\n",
       "      <th>carb</th>\n",
       "    </tr>\n",
       "  </thead>\n",
       "  <tbody>\n",
       "    <tr>\n",
       "      <th>0</th>\n",
       "      <td>Mazda RX4</td>\n",
       "      <td>21.0</td>\n",
       "      <td>6</td>\n",
       "      <td>160.0</td>\n",
       "      <td>110</td>\n",
       "      <td>3.90</td>\n",
       "      <td>2.620</td>\n",
       "      <td>16.46</td>\n",
       "      <td>0</td>\n",
       "      <td>1</td>\n",
       "      <td>4</td>\n",
       "      <td>4</td>\n",
       "    </tr>\n",
       "    <tr>\n",
       "      <th>1</th>\n",
       "      <td>Mazda RX4 Wag</td>\n",
       "      <td>21.0</td>\n",
       "      <td>6</td>\n",
       "      <td>160.0</td>\n",
       "      <td>110</td>\n",
       "      <td>3.90</td>\n",
       "      <td>2.875</td>\n",
       "      <td>17.02</td>\n",
       "      <td>0</td>\n",
       "      <td>1</td>\n",
       "      <td>4</td>\n",
       "      <td>4</td>\n",
       "    </tr>\n",
       "    <tr>\n",
       "      <th>2</th>\n",
       "      <td>Datsun 710</td>\n",
       "      <td>22.8</td>\n",
       "      <td>4</td>\n",
       "      <td>108.0</td>\n",
       "      <td>93</td>\n",
       "      <td>3.85</td>\n",
       "      <td>2.320</td>\n",
       "      <td>18.61</td>\n",
       "      <td>1</td>\n",
       "      <td>1</td>\n",
       "      <td>4</td>\n",
       "      <td>1</td>\n",
       "    </tr>\n",
       "    <tr>\n",
       "      <th>3</th>\n",
       "      <td>Hornet 4 Drive</td>\n",
       "      <td>21.4</td>\n",
       "      <td>6</td>\n",
       "      <td>258.0</td>\n",
       "      <td>110</td>\n",
       "      <td>3.08</td>\n",
       "      <td>3.215</td>\n",
       "      <td>19.44</td>\n",
       "      <td>1</td>\n",
       "      <td>0</td>\n",
       "      <td>3</td>\n",
       "      <td>1</td>\n",
       "    </tr>\n",
       "    <tr>\n",
       "      <th>4</th>\n",
       "      <td>Hornet Sportabout</td>\n",
       "      <td>18.7</td>\n",
       "      <td>8</td>\n",
       "      <td>360.0</td>\n",
       "      <td>175</td>\n",
       "      <td>3.15</td>\n",
       "      <td>3.440</td>\n",
       "      <td>17.02</td>\n",
       "      <td>0</td>\n",
       "      <td>0</td>\n",
       "      <td>3</td>\n",
       "      <td>2</td>\n",
       "    </tr>\n",
       "  </tbody>\n",
       "</table>\n",
       "</div>"
      ],
      "text/plain": [
       "          Unnamed: 0   mpg  cyl   disp   hp  drat     wt   qsec  vs  am  gear  \\\n",
       "0          Mazda RX4  21.0    6  160.0  110  3.90  2.620  16.46   0   1     4   \n",
       "1      Mazda RX4 Wag  21.0    6  160.0  110  3.90  2.875  17.02   0   1     4   \n",
       "2         Datsun 710  22.8    4  108.0   93  3.85  2.320  18.61   1   1     4   \n",
       "3     Hornet 4 Drive  21.4    6  258.0  110  3.08  3.215  19.44   1   0     3   \n",
       "4  Hornet Sportabout  18.7    8  360.0  175  3.15  3.440  17.02   0   0     3   \n",
       "\n",
       "   carb  \n",
       "0     4  \n",
       "1     4  \n",
       "2     1  \n",
       "3     1  \n",
       "4     2  "
      ]
     },
     "execution_count": 2,
     "metadata": {},
     "output_type": "execute_result"
    }
   ],
   "source": [
    "data_file = 'data/cars.csv'\n",
    "df_cars = pd.read_csv(data_file)\n",
    "df_cars.head()"
   ]
  },
  {
   "cell_type": "markdown",
   "id": "bc18db89",
   "metadata": {},
   "source": [
    "### Visualize Data"
   ]
  },
  {
   "cell_type": "code",
   "execution_count": 3,
   "id": "736669e1",
   "metadata": {},
   "outputs": [
    {
     "data": {
      "text/plain": [
       "<Axes: xlabel='wt', ylabel='mpg'>"
      ]
     },
     "execution_count": 3,
     "metadata": {},
     "output_type": "execute_result"
    },
    {
     "data": {
      "image/png": "[encoded data removed]",
      "text/plain": [
       "<Figure size 640x480 with 1 Axes>"
      ]
     },
     "metadata": {},
     "output_type": "display_data"
    }
   ],
   "source": [
    "sns.scatterplot(x='wt', y='mpg', data=df_cars)\n",
    "sns.regplot(x='wt', y='mpg', data=df_cars)"
   ]
  },
  {
   "cell_type": "markdown",
   "id": "534cd31c",
   "metadata": {},
   "source": [
    "### Convert Data to Tensors"
   ]
  },
  {
   "cell_type": "code",
   "execution_count": 4,
   "id": "3ff082b8",
   "metadata": {},
   "outputs": [
    {
     "name": "stdout",
     "output_type": "stream",
     "text": [
      "X_np shape: (32, 1)\n",
      "X_np type: <class 'numpy.ndarray'>\n",
      "[[2.62 ]\n",
      " [2.875]\n",
      " [2.32 ]\n",
      " [3.215]\n",
      " [3.44 ]]\n"
     ]
    }
   ],
   "source": [
    "# Get independent variable (weight) as Numpy array\n",
    "X_list = df_cars.wt.values\n",
    "X_np = np.array(X_list, dtype=np.float32).reshape(-1, 1)\n",
    "print(\"X_np shape:\", X_np.shape)\n",
    "print(\"X_np type:\", type(X_np))\n",
    "print(X_np[:5])\n"
   ]
  },
  {
   "cell_type": "code",
   "execution_count": 5,
   "id": "e5b6e13a",
   "metadata": {},
   "outputs": [
    {
     "name": "stdout",
     "output_type": "stream",
     "text": [
      "X tensor shape: torch.Size([32, 1])\n",
      "X tensor type: <class 'torch.Tensor'>\n",
      "tensor([[2.6200],\n",
      "        [2.8750],\n",
      "        [2.3200],\n",
      "        [3.2150],\n",
      "        [3.4400]])\n"
     ]
    }
   ],
   "source": [
    "# Convert X to torch tensor\n",
    "X = torch.from_numpy(X_np)\n",
    "print(\"X tensor shape:\", X.shape)\n",
    "print(\"X tensor type:\", type(X))\n",
    "print(X[:5])\n"
   ]
  },
  {
   "cell_type": "code",
   "execution_count": 6,
   "id": "d72f77fc",
   "metadata": {},
   "outputs": [
    {
     "name": "stdout",
     "output_type": "stream",
     "text": [
      "y tensor shape: torch.Size([32])\n",
      "y tensor type: <class 'torch.Tensor'>\n",
      "tensor([21.0000, 21.0000, 22.8000, 21.4000, 18.7000], dtype=torch.float64)\n"
     ]
    }
   ],
   "source": [
    "# Get dependent variable (miles per gallon) as list\n",
    "y_list = df_cars.mpg.values\n",
    "# Convert list to tensor\n",
    "y = torch.tensor(y_list)\n",
    "print(\"y tensor shape:\", y.shape)\n",
    "print(\"y tensor type:\", type(y))\n",
    "print(y[:5])"
   ]
  },
  {
   "cell_type": "markdown",
   "id": "ea70232a",
   "metadata": {},
   "source": [
    "### Training Loop"
   ]
  },
  {
   "cell_type": "code",
   "execution_count": 7,
   "id": "8690d9fd",
   "metadata": {},
   "outputs": [
    {
     "name": "stdout",
     "output_type": "stream",
     "text": [
      "epoch: 0, loss: 207.7778, w: 2.4010, b: 0.5624\n",
      "epoch: 100, loss: 11.9628, w: 1.0167, b: 15.1753\n",
      "epoch: 200, loss: 3.0796, w: -1.4345, b: 23.6635\n",
      "epoch: 300, loss: 0.5064, w: -2.9353, b: 28.8610\n",
      "epoch: 400, loss: 0.0053, w: -3.8543, b: 32.0434\n",
      "epoch: 500, loss: 0.1013, w: -4.4170, b: 33.9921\n",
      "epoch: 600, loss: 0.3112, w: -4.7615, b: 35.1852\n",
      "epoch: 700, loss: 0.4963, w: -4.9725, b: 35.9157\n",
      "epoch: 800, loss: 0.6308, w: -5.1017, b: 36.3630\n",
      "epoch: 900, loss: 0.7212, w: -5.1808, b: 36.6370\n",
      "Final parameters: w: -5.2288, b: 36.8033\n"
     ]
    }
   ],
   "source": [
    "# Weights and Biases\n",
    "w = torch.randn(1, requires_grad=True, dtype=torch.float32)\n",
    "b = torch.randn(1, requires_grad=True, dtype=torch.float32)\n",
    "\n",
    "# number of epochs to train\n",
    "nr_epochs = 1000\n",
    "# learning rate\n",
    "lr = 0.001\n",
    "\n",
    "# Loop over the number of epochs\n",
    "for epoch in range(nr_epochs):\n",
    "    # Loop over samples\n",
    "    for i in range(len(X)):\n",
    "        # Forward pass: compute predicted y by passing x to the model\n",
    "        y_pred = X[i] * w + b\n",
    "\n",
    "        # Compute loss\n",
    "        loss_tensor = torch.pow(y_pred - y[i],2)\n",
    "\n",
    "        # Backward pass: compute gradient of the loss with respect to model parameters\n",
    "        loss_tensor.backward()\n",
    "\n",
    "        # Update weights using gradient descent; wrap in torch.no_grad() to avoid tracking in autograd\n",
    "        with torch.no_grad():\n",
    "            w -= w.grad * lr\n",
    "            b -= b.grad * lr\n",
    "\n",
    "            # Manually zero the gradients after updating weights\n",
    "            w.grad.zero_()  # Underscore means in-place operation\n",
    "            b.grad.zero_()  # Underscore means in-place operation\n",
    "    if epoch % 100 == 0:\n",
    "        print(f\"epoch: {epoch}, loss: {loss_tensor.item():.4f}, w: {w.item():.4f}, b: {b.item():.4f}\")\n",
    "\n",
    "# Final parameters\n",
    "print(f\"Final parameters: w: {w.item():.4f}, b: {b.item():.4f}\")\n"
   ]
  },
  {
   "cell_type": "markdown",
   "id": "a98bca6f",
   "metadata": {},
   "source": [
    "### Plot results"
   ]
  },
  {
   "cell_type": "code",
   "execution_count": 8,
   "id": "b0b0af14",
   "metadata": {},
   "outputs": [
    {
     "data": {
      "text/plain": [
       "<Axes: >"
      ]
     },
     "execution_count": 8,
     "metadata": {},
     "output_type": "execute_result"
    },
    {
     "data": {
      "image/png": "[encoded data removed]",
      "text/plain": [
       "<Figure size 640x480 with 1 Axes>"
      ]
     },
     "metadata": {},
     "output_type": "display_data"
    }
   ],
   "source": [
    "y_pred = ((X * w) + b).detach().numpy()\n",
    "# %%\n",
    "sns.scatterplot(x=X_list, y=y_list)\n",
    "sns.lineplot(x=X_list, y=y_pred.reshape(-1), color='red')"
   ]
  },
  {
   "cell_type": "markdown",
   "id": "6dce6cbf",
   "metadata": {},
   "source": [
    "### Compare Results to scikit-learn"
   ]
  },
  {
   "cell_type": "code",
   "execution_count": 9,
   "id": "a984f1f7",
   "metadata": {},
   "outputs": [
    {
     "name": "stdout",
     "output_type": "stream",
     "text": [
      "Slope: [-5.3444715], Bias: 37.285125732421875\n"
     ]
    }
   ],
   "source": [
    "from sklearn.linear_model import LinearRegression\n",
    "reg = LinearRegression().fit(X_np, y_list)\n",
    "print(f\"Slope: {reg.coef_}, Bias: {reg.intercept_}\")"
   ]
  },
  {
   "cell_type": "markdown",
   "id": "b9d11c53",
   "metadata": {},
   "source": [
    "### Visualize model\n",
    "\n",
    "GraphViz can be installed from (https://graphviz.org/download/)"
   ]
  },
  {
   "cell_type": "code",
   "execution_count": 11,
   "id": "b7d21cee",
   "metadata": {},
   "outputs": [
    {
     "name": "stdout",
     "output_type": "stream",
     "text": [
      "Running in Windows\n"
     ]
    }
   ],
   "source": [
    "import os\n",
    "import platform\n",
    "from torchviz import make_dot\n",
    "\n",
    "if platform.system() == \"Windows\":\n",
    "    print(\"Running in Windows\")\n",
    "    os.environ['PATH'] += os.pathsep + 'C:/Program Files/Graphviz/bin'\n",
    "    make_dot(loss_tensor)\n"
   ]
  },
  {
   "cell_type": "code",
   "execution_count": null,
   "id": "cf4692ae",
   "metadata": {},
   "outputs": [],
   "source": []
  }
 ],
 "metadata": {
  "kernelspec": {
   "display_name": ".venv",
   "language": "python",
   "name": "python3"
  },
  "language_info": {
   "codemirror_mode": {
    "name": "ipython",
    "version": 3
   },
   "file_extension": ".py",
   "mimetype": "text/x-python",
   "name": "python",
   "nbconvert_exporter": "python",
   "pygments_lexer": "ipython3",
   "version": "3.12.7"
  }
 },
 "nbformat": 4,
 "nbformat_minor": 5
}
