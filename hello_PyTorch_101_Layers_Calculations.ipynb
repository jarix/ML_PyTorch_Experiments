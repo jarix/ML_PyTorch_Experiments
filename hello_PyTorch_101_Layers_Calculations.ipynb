{
 "cells": [
  {
   "cell_type": "markdown",
   "id": "bdad6eda",
   "metadata": {},
   "source": [
    "# Hello PyTorch 101 Layer Calculations"
   ]
  },
  {
   "cell_type": "code",
   "execution_count": 2,
   "id": "9f565136",
   "metadata": {},
   "outputs": [],
   "source": [
    "# Prerequisites\n",
    "from typing import OrderedDict\n",
    "import torch\n",
    "import torch.nn as nn"
   ]
  },
  {
   "cell_type": "markdown",
   "id": "73c7c62b",
   "metadata": {},
   "source": [
    "### Sample Random Data"
   ]
  },
  {
   "cell_type": "code",
   "execution_count": 11,
   "id": "05b289cd",
   "metadata": {},
   "outputs": [],
   "source": [
    "input = torch.rand((1, 3, 32, 32))  # Batch size, Channels, Height, Width"
   ]
  },
  {
   "cell_type": "code",
   "execution_count": null,
   "id": "771d13e1",
   "metadata": {},
   "outputs": [],
   "source": [
    "model = nn.Sequential(OrderedDict([\n",
    "    ('conv1', nn.Conv2d(3, 8, 3)), # out: (Batch size, 8, 30, 30)\n",
    "    ('relu1', nn.ReLU()),\n",
    "    ('pool', nn.MaxPool2d(2, 2)), # out: (Batch size, 8, 15, 15)\n",
    "    ('conv2', nn.Conv2d(8, 16, 3)), # out: (Batch size, 16, 13, 13)\n",
    "    ('relu2', nn.ReLU()),\n",
    "    ('pool2', nn.MaxPool2d(2, 2)), # out: (Batch size, 16, 6, 6)\n",
    "    ('flatten', nn.Flatten()),  # shape: (Batch size, 16*6*6 = 576)\n",
    "    ('fc1', nn.Linear(16*6*6, 128)),\n",
    "    ('relu3', nn.ReLU()),\n",
    "    ('fc2', nn.Linear(128, 64)),\n",
    "    ('relu4', nn.ReLU()),\n",
    "    ('fc3', nn.Linear(64, 1)),\n",
    "    ('sigmoid', nn.Sigmoid())\n",
    "]))"
   ]
  },
  {
   "cell_type": "markdown",
   "id": "c03ecaa3",
   "metadata": {},
   "source": [
    "### Check Out"
   ]
  },
  {
   "cell_type": "code",
   "execution_count": 29,
   "id": "b91ed121",
   "metadata": {},
   "outputs": [
    {
     "data": {
      "text/plain": [
       "torch.Size([1, 64])"
      ]
     },
     "execution_count": 29,
     "metadata": {},
     "output_type": "execute_result"
    }
   ],
   "source": [
    "model(input).shape"
   ]
  }
 ],
 "metadata": {
  "kernelspec": {
   "display_name": ".venv",
   "language": "python",
   "name": "python3"
  },
  "language_info": {
   "codemirror_mode": {
    "name": "ipython",
    "version": 3
   },
   "file_extension": ".py",
   "mimetype": "text/x-python",
   "name": "python",
   "nbconvert_exporter": "python",
   "pygments_lexer": "ipython3",
   "version": "3.12.7"
  }
 },
 "nbformat": 4,
 "nbformat_minor": 5
}
