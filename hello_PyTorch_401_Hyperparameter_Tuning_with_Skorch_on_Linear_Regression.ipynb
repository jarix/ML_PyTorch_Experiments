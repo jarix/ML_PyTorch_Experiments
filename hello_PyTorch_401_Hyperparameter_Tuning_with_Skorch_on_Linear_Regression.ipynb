{
 "cells": [
  {
   "cell_type": "markdown",
   "id": "e27eb129",
   "metadata": {},
   "source": [
    "# Hello PyTorch 401 Hyperparameter Tuning with Skorch on Linear Regression Example"
   ]
  },
  {
   "cell_type": "code",
   "execution_count": 14,
   "id": "b762842f",
   "metadata": {},
   "outputs": [],
   "source": [
    "# Prerequisites\n",
    "import numpy as np\n",
    "import pandas as pd\n",
    "import seaborn as sns\n",
    "\n",
    "import torch\n",
    "import torch.nn as nn \n",
    "from torch.utils.data import Dataset, DataLoader\n",
    "\n",
    "# for Hyperparameter Tuning\n",
    "from skorch import NeuralNetRegressor\n",
    "from sklearn.model_selection import GridSearchCV\n",
    "\n"
   ]
  },
  {
   "cell_type": "markdown",
   "id": "195f8f56",
   "metadata": {},
   "source": [
    "### Get Dataset"
   ]
  },
  {
   "cell_type": "code",
   "execution_count": 3,
   "id": "0e56045e",
   "metadata": {},
   "outputs": [
    {
     "data": {
      "application/vnd.microsoft.datawrangler.viewer.v0+json": {
       "columns": [
        {
         "name": "index",
         "rawType": "int64",
         "type": "integer"
        },
        {
         "name": "Unnamed: 0",
         "rawType": "object",
         "type": "string"
        },
        {
         "name": "mpg",
         "rawType": "float64",
         "type": "float"
        },
        {
         "name": "cyl",
         "rawType": "int64",
         "type": "integer"
        },
        {
         "name": "disp",
         "rawType": "float64",
         "type": "float"
        },
        {
         "name": "hp",
         "rawType": "int64",
         "type": "integer"
        },
        {
         "name": "drat",
         "rawType": "float64",
         "type": "float"
        },
        {
         "name": "wt",
         "rawType": "float64",
         "type": "float"
        },
        {
         "name": "qsec",
         "rawType": "float64",
         "type": "float"
        },
        {
         "name": "vs",
         "rawType": "int64",
         "type": "integer"
        },
        {
         "name": "am",
         "rawType": "int64",
         "type": "integer"
        },
        {
         "name": "gear",
         "rawType": "int64",
         "type": "integer"
        },
        {
         "name": "carb",
         "rawType": "int64",
         "type": "integer"
        }
       ],
       "ref": "9de5de99-c01c-463d-9d82-bbd05d496f2d",
       "rows": [
        [
         "0",
         "Mazda RX4",
         "21.0",
         "6",
         "160.0",
         "110",
         "3.9",
         "2.62",
         "16.46",
         "0",
         "1",
         "4",
         "4"
        ],
        [
         "1",
         "Mazda RX4 Wag",
         "21.0",
         "6",
         "160.0",
         "110",
         "3.9",
         "2.875",
         "17.02",
         "0",
         "1",
         "4",
         "4"
        ],
        [
         "2",
         "Datsun 710",
         "22.8",
         "4",
         "108.0",
         "93",
         "3.85",
         "2.32",
         "18.61",
         "1",
         "1",
         "4",
         "1"
        ],
        [
         "3",
         "Hornet 4 Drive",
         "21.4",
         "6",
         "258.0",
         "110",
         "3.08",
         "3.215",
         "19.44",
         "1",
         "0",
         "3",
         "1"
        ],
        [
         "4",
         "Hornet Sportabout",
         "18.7",
         "8",
         "360.0",
         "175",
         "3.15",
         "3.44",
         "17.02",
         "0",
         "0",
         "3",
         "2"
        ]
       ],
       "shape": {
        "columns": 12,
        "rows": 5
       }
      },
      "text/html": [
       "<div>\n",
       "<style scoped>\n",
       "    .dataframe tbody tr th:only-of-type {\n",
       "        vertical-align: middle;\n",
       "    }\n",
       "\n",
       "    .dataframe tbody tr th {\n",
       "        vertical-align: top;\n",
       "    }\n",
       "\n",
       "    .dataframe thead th {\n",
       "        text-align: right;\n",
       "    }\n",
       "</style>\n",
       "<table border=\"1\" class=\"dataframe\">\n",
       "  <thead>\n",
       "    <tr style=\"text-align: right;\">\n",
       "      <th></th>\n",
       "      <th>Unnamed: 0</th>\n",
       "      <th>mpg</th>\n",
       "      <th>cyl</th>\n",
       "      <th>disp</th>\n",
       "      <th>hp</th>\n",
       "      <th>drat</th>\n",
       "      <th>wt</th>\n",
       "      <th>qsec</th>\n",
       "      <th>vs</th>\n",
       "      <th>am</th>\n",
       "      <th>gear</th>\n",
       "      <th>carb</th>\n",
       "    </tr>\n",
       "  </thead>\n",
       "  <tbody>\n",
       "    <tr>\n",
       "      <th>0</th>\n",
       "      <td>Mazda RX4</td>\n",
       "      <td>21.0</td>\n",
       "      <td>6</td>\n",
       "      <td>160.0</td>\n",
       "      <td>110</td>\n",
       "      <td>3.90</td>\n",
       "      <td>2.620</td>\n",
       "      <td>16.46</td>\n",
       "      <td>0</td>\n",
       "      <td>1</td>\n",
       "      <td>4</td>\n",
       "      <td>4</td>\n",
       "    </tr>\n",
       "    <tr>\n",
       "      <th>1</th>\n",
       "      <td>Mazda RX4 Wag</td>\n",
       "      <td>21.0</td>\n",
       "      <td>6</td>\n",
       "      <td>160.0</td>\n",
       "      <td>110</td>\n",
       "      <td>3.90</td>\n",
       "      <td>2.875</td>\n",
       "      <td>17.02</td>\n",
       "      <td>0</td>\n",
       "      <td>1</td>\n",
       "      <td>4</td>\n",
       "      <td>4</td>\n",
       "    </tr>\n",
       "    <tr>\n",
       "      <th>2</th>\n",
       "      <td>Datsun 710</td>\n",
       "      <td>22.8</td>\n",
       "      <td>4</td>\n",
       "      <td>108.0</td>\n",
       "      <td>93</td>\n",
       "      <td>3.85</td>\n",
       "      <td>2.320</td>\n",
       "      <td>18.61</td>\n",
       "      <td>1</td>\n",
       "      <td>1</td>\n",
       "      <td>4</td>\n",
       "      <td>1</td>\n",
       "    </tr>\n",
       "    <tr>\n",
       "      <th>3</th>\n",
       "      <td>Hornet 4 Drive</td>\n",
       "      <td>21.4</td>\n",
       "      <td>6</td>\n",
       "      <td>258.0</td>\n",
       "      <td>110</td>\n",
       "      <td>3.08</td>\n",
       "      <td>3.215</td>\n",
       "      <td>19.44</td>\n",
       "      <td>1</td>\n",
       "      <td>0</td>\n",
       "      <td>3</td>\n",
       "      <td>1</td>\n",
       "    </tr>\n",
       "    <tr>\n",
       "      <th>4</th>\n",
       "      <td>Hornet Sportabout</td>\n",
       "      <td>18.7</td>\n",
       "      <td>8</td>\n",
       "      <td>360.0</td>\n",
       "      <td>175</td>\n",
       "      <td>3.15</td>\n",
       "      <td>3.440</td>\n",
       "      <td>17.02</td>\n",
       "      <td>0</td>\n",
       "      <td>0</td>\n",
       "      <td>3</td>\n",
       "      <td>2</td>\n",
       "    </tr>\n",
       "  </tbody>\n",
       "</table>\n",
       "</div>"
      ],
      "text/plain": [
       "          Unnamed: 0   mpg  cyl   disp   hp  drat     wt   qsec  vs  am  gear  \\\n",
       "0          Mazda RX4  21.0    6  160.0  110  3.90  2.620  16.46   0   1     4   \n",
       "1      Mazda RX4 Wag  21.0    6  160.0  110  3.90  2.875  17.02   0   1     4   \n",
       "2         Datsun 710  22.8    4  108.0   93  3.85  2.320  18.61   1   1     4   \n",
       "3     Hornet 4 Drive  21.4    6  258.0  110  3.08  3.215  19.44   1   0     3   \n",
       "4  Hornet Sportabout  18.7    8  360.0  175  3.15  3.440  17.02   0   0     3   \n",
       "\n",
       "   carb  \n",
       "0     4  \n",
       "1     4  \n",
       "2     1  \n",
       "3     1  \n",
       "4     2  "
      ]
     },
     "execution_count": 3,
     "metadata": {},
     "output_type": "execute_result"
    }
   ],
   "source": [
    "data_file = 'data/cars.csv'\n",
    "df_cars = pd.read_csv(data_file)\n",
    "df_cars.head()"
   ]
  },
  {
   "cell_type": "markdown",
   "id": "6b47e77d",
   "metadata": {},
   "source": [
    "### Visualize Data"
   ]
  },
  {
   "cell_type": "code",
   "execution_count": 4,
   "id": "d850a3ce",
   "metadata": {},
   "outputs": [
    {
     "data": {
      "text/plain": [
       "<Axes: xlabel='wt', ylabel='mpg'>"
      ]
     },
     "execution_count": 4,
     "metadata": {},
     "output_type": "execute_result"
    },
    {
     "data": {
      "image/png": "[encoded data removed]",
      "text/plain": [
       "<Figure size 640x480 with 1 Axes>"
      ]
     },
     "metadata": {},
     "output_type": "display_data"
    }
   ],
   "source": [
    "sns.scatterplot(x='wt', y='mpg', data=df_cars)\n",
    "sns.regplot(x='wt', y='mpg', data=df_cars)"
   ]
  },
  {
   "cell_type": "markdown",
   "id": "ad3dbe45",
   "metadata": {},
   "source": [
    "### Convert Data to Tensors"
   ]
  },
  {
   "cell_type": "code",
   "execution_count": 5,
   "id": "4233f861",
   "metadata": {},
   "outputs": [],
   "source": [
    "X_list = df_cars.wt.values\n",
    "X_np = np.array(X_list, dtype=np.float32).reshape(-1,1)\n",
    "y_list = df_cars.mpg.values\n",
    "y_np = np.array(y_list, dtype=np.float32).reshape(-1,1)\n",
    "X = torch.from_numpy(X_np)\n",
    "y_true = torch.from_numpy(y_np)"
   ]
  },
  {
   "cell_type": "markdown",
   "id": "533ef6f5",
   "metadata": {},
   "source": [
    "### Create DataSet and DataLoader"
   ]
  },
  {
   "cell_type": "code",
   "execution_count": 8,
   "id": "57620bde",
   "metadata": {},
   "outputs": [],
   "source": [
    "class LinearRegressionDateSet(Dataset):\n",
    "    def __init__(self, X, y):\n",
    "        self.X = X\n",
    "        self.y = y\n",
    "\n",
    "    def __len__(self):\n",
    "        return len(self.X)\n",
    "\n",
    "    def __getitem__(self, idx):\n",
    "        return self.X[idx], self.y[idx]\n",
    "    \n",
    "train_loader = DataLoader(dataset=LinearRegressionDateSet(X_np, y_np), batch_size=2)"
   ]
  },
  {
   "cell_type": "markdown",
   "id": "acc4b58d",
   "metadata": {},
   "source": [
    "### Create Model Class"
   ]
  },
  {
   "cell_type": "code",
   "execution_count": 19,
   "id": "7edb63c5",
   "metadata": {},
   "outputs": [],
   "source": [
    "# Simple Linear Regression Model Class\n",
    "class LinearRegressionModel(nn.Module):\n",
    "    def __init__(self, input_dim=1, output_dim=1):\n",
    "        super(LinearRegressionModel, self).__init__()\n",
    "        self.linear = nn.Linear(input_dim, output_dim)\n",
    "\n",
    "    def forward(self, x):\n",
    "        out = self.linear(x)\n",
    "        return out"
   ]
  },
  {
   "cell_type": "markdown",
   "id": "a385377c",
   "metadata": {},
   "source": [
    "### Instatiate Model"
   ]
  },
  {
   "cell_type": "code",
   "execution_count": 20,
   "id": "8fe88f62",
   "metadata": {},
   "outputs": [
    {
     "data": {
      "text/plain": [
       "LinearRegressionModel(\n",
       "  (linear): Linear(in_features=1, out_features=1, bias=True)\n",
       ")"
      ]
     },
     "execution_count": 20,
     "metadata": {},
     "output_type": "execute_result"
    }
   ],
   "source": [
    "# Instantiate Model\n",
    "input_dim = 1\n",
    "output_dim = 1\n",
    "model = LinearRegressionModel(input_dim=input_dim, output_dim=output_dim)\n",
    "model.train() # set the model to training mode"
   ]
  },
  {
   "cell_type": "markdown",
   "id": "240bcffa",
   "metadata": {},
   "source": [
    "### Define Hyperparameters"
   ]
  },
  {
   "cell_type": "code",
   "execution_count": 21,
   "id": "a49ecd8d",
   "metadata": {},
   "outputs": [],
   "source": [
    "# Use Mean Squared Error Loss Function\n",
    "loss_func = nn.MSELoss()\n",
    "\n",
    "# Learning Rate\n",
    "LR = 0.02\n",
    "\n",
    "# Optimizer Stochastic Gradient Descent\n",
    "optimizer = torch.optim.SGD(model.parameters(), lr=LR)"
   ]
  },
  {
   "cell_type": "markdown",
   "id": "09967576",
   "metadata": {},
   "source": [
    "### Hyperparameter Tuning with Grid Search"
   ]
  },
  {
   "cell_type": "code",
   "execution_count": 22,
   "id": "694d5796",
   "metadata": {},
   "outputs": [
    {
     "name": "stdout",
     "output_type": "stream",
     "text": [
      "Fitting 3 folds for each of 9 candidates, totalling 27 fits\n",
      "[CV] END .............................lr=0.02, max_epochs=10; total time=   0.0s\n",
      "[CV] END .............................lr=0.02, max_epochs=10; total time=   0.0s\n",
      "[CV] END .............................lr=0.02, max_epochs=10; total time=   0.0s\n",
      "[CV] END ............................lr=0.02, max_epochs=200; total time=   0.1s\n",
      "[CV] END ............................lr=0.02, max_epochs=200; total time=   0.1s\n",
      "[CV] END ............................lr=0.02, max_epochs=200; total time=   0.1s\n",
      "[CV] END ............................lr=0.02, max_epochs=500; total time=   0.4s\n",
      "[CV] END ............................lr=0.02, max_epochs=500; total time=   0.4s\n",
      "[CV] END ............................lr=0.02, max_epochs=500; total time=   0.4s\n",
      "[CV] END .............................lr=0.05, max_epochs=10; total time=   0.0s\n",
      "[CV] END .............................lr=0.05, max_epochs=10; total time=   0.0s\n",
      "[CV] END .............................lr=0.05, max_epochs=10; total time=   0.0s\n",
      "[CV] END ............................lr=0.05, max_epochs=200; total time=   0.1s\n",
      "[CV] END ............................lr=0.05, max_epochs=200; total time=   0.1s\n",
      "[CV] END ............................lr=0.05, max_epochs=200; total time=   0.1s\n",
      "[CV] END ............................lr=0.05, max_epochs=500; total time=   0.4s\n",
      "[CV] END ............................lr=0.05, max_epochs=500; total time=   0.4s\n",
      "[CV] END ............................lr=0.05, max_epochs=500; total time=   0.4s\n",
      "[CV] END .............................lr=0.08, max_epochs=10; total time=   0.0s\n",
      "[CV] END .............................lr=0.08, max_epochs=10; total time=   0.0s\n",
      "[CV] END .............................lr=0.08, max_epochs=10; total time=   0.0s\n",
      "[CV] END ............................lr=0.08, max_epochs=200; total time=   0.1s\n",
      "[CV] END ............................lr=0.08, max_epochs=200; total time=   0.1s\n",
      "[CV] END ............................lr=0.08, max_epochs=200; total time=   0.1s\n",
      "[CV] END ............................lr=0.08, max_epochs=500; total time=   0.4s\n",
      "[CV] END ............................lr=0.08, max_epochs=500; total time=   0.4s\n",
      "[CV] END ............................lr=0.08, max_epochs=500; total time=   0.4s\n",
      "best score: 0.588, best params: {'lr': 0.05, 'max_epochs': 500}\n"
     ]
    },
    {
     "name": "stderr",
     "output_type": "stream",
     "text": [
      "d:\\MyGithub\\ML_PyTorch_Experiments\\.venv\\Lib\\site-packages\\sklearn\\metrics\\_regression.py:1292: RuntimeWarning: overflow encountered in square\n",
      "  numerator = xp.sum(weight * (y_true - y_pred) ** 2, axis=0)\n",
      "d:\\MyGithub\\ML_PyTorch_Experiments\\.venv\\Lib\\site-packages\\sklearn\\model_selection\\_search.py:1135: UserWarning: One or more of the test scores are non-finite: [-2.74598440e+00 -4.68120178e-01  3.64286522e-01 -2.48248792e+00\n",
      "  3.53633940e-01  5.87937295e-01 -5.99238981e+01 -3.43072198e+19\n",
      "            -inf]\n",
      "  warnings.warn(\n",
      "d:\\MyGithub\\ML_PyTorch_Experiments\\.venv\\Lib\\site-packages\\sklearn\\model_selection\\_search.py:1146: RuntimeWarning: invalid value encountered in subtract\n",
      "  (array - array_means[:, np.newaxis]) ** 2, axis=1, weights=weights\n"
     ]
    }
   ],
   "source": [
    "net = NeuralNetRegressor(\n",
    "    module=LinearRegressionModel,\n",
    "    max_epochs=100,\n",
    "    lr=0.02,\n",
    "    iterator_train__shuffle=True\n",
    ")\n",
    "net.set_params(train_split=False, verbose=0) # turn off validation and logging\n",
    "params = {\n",
    "    'lr': [0.02, 0.05, 0.08],\n",
    "    'max_epochs': [10, 200, 500]\n",
    "}\n",
    "\n",
    "gs = GridSearchCV(net, params, refit=False, cv=3, scoring='r2', verbose=2)\n",
    "\n",
    "gs.fit(X, y_true)\n",
    "\n",
    "print(f\"best score: {gs.best_score_:.3f}, best params: {gs.best_params_}\")\n"
   ]
  }
 ],
 "metadata": {
  "kernelspec": {
   "display_name": ".venv",
   "language": "python",
   "name": "python3"
  },
  "language_info": {
   "codemirror_mode": {
    "name": "ipython",
    "version": 3
   },
   "file_extension": ".py",
   "mimetype": "text/x-python",
   "name": "python",
   "nbconvert_exporter": "python",
   "pygments_lexer": "ipython3",
   "version": "3.12.7"
  }
 },
 "nbformat": 4,
 "nbformat_minor": 5
}
