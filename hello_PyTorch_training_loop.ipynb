{
 "cells": [
  {
   "cell_type": "markdown",
   "metadata": {},
   "source": [
    "# Hello PyTorch Training Loop"
   ]
  },
  {
   "cell_type": "code",
   "execution_count": 1,
   "metadata": {},
   "outputs": [],
   "source": [
    "# Prereruisites \n",
    "import torch\n",
    "import torch.nn as nn\n",
    "import torch.optim as optim\n",
    "from torch.utils.data import Dataset, DataLoader"
   ]
  },
  {
   "cell_type": "markdown",
   "metadata": {},
   "source": [
    "### Create a dumb dataset\n",
    "\n",
    "Pairs of numbers and their sum "
   ]
  },
  {
   "cell_type": "code",
   "execution_count": 7,
   "metadata": {},
   "outputs": [],
   "source": [
    "# Make a simple dummy dataset\n",
    "class SimpleNumbersSumDataset(Dataset):\n",
    "    def __init__(self, data_range=(1, 16)):\n",
    "        self.numbers = list(range(data_range[0], data_range[1]))\n",
    "\n",
    "    def __getitem__(self, idx):\n",
    "        num1 = float(self.numbers[idx // len(self.numbers)])  \n",
    "        num2 = float(self.numbers[idx % len(self.numbers)])  \n",
    "        return torch.tensor([num1, num2]), torch.tensor([num1 + num2])\n",
    "\n",
    "    def __len__(self):\n",
    "        return len(self.numbers) ** 2"
   ]
  },
  {
   "cell_type": "markdown",
   "metadata": {},
   "source": [
    "Check out the dataset"
   ]
  },
  {
   "cell_type": "code",
   "execution_count": 8,
   "metadata": {},
   "outputs": [
    {
     "name": "stdout",
     "output_type": "stream",
     "text": [
      "(tensor([1., 1.]), tensor([2.]))\n",
      "(tensor([1., 2.]), tensor([3.]))\n",
      "(tensor([1., 3.]), tensor([4.]))\n",
      "(tensor([1., 4.]), tensor([5.]))\n",
      "(tensor([1., 5.]), tensor([6.]))\n",
      "(tensor([1., 6.]), tensor([7.]))\n",
      "(tensor([1., 7.]), tensor([8.]))\n",
      "(tensor([1., 8.]), tensor([9.]))\n"
     ]
    }
   ],
   "source": [
    "data_set = SimpleNumbersSumDataset()\n",
    "for i in range(8):\n",
    "    print(data_set[i])"
   ]
  },
  {
   "cell_type": "markdown",
   "metadata": {},
   "source": [
    "### Build a simple dumb model"
   ]
  },
  {
   "cell_type": "code",
   "execution_count": 9,
   "metadata": {},
   "outputs": [],
   "source": [
    "class SimpleMLP(nn.Module):\n",
    "    def __init__(self, input_size):\n",
    "        super(SimpleMLP, self).__init__()\n",
    "        self.hidden_layer = nn.Linear(input_size, 128)\n",
    "        self.output_layer = nn.Linear(128, 1)\n",
    "        self.activation = nn.ReLU()\n",
    "\n",
    "    def forward(self, x):\n",
    "        x = self.activation(self.hidden_layer(x)) \n",
    "        x = self.output_layer(x)\n",
    "        return x\n",
    "    "
   ]
  },
  {
   "cell_type": "markdown",
   "metadata": {},
   "source": [
    "### Instantiate all components"
   ]
  },
  {
   "cell_type": "code",
   "execution_count": 10,
   "metadata": {},
   "outputs": [],
   "source": [
    "data_set = SimpleNumbersSumDataset(data_range=(0, 100))\n",
    "data_loader = DataLoader(data_set, batch_size=100, shuffle=True)\n",
    "model = SimpleMLP(input_size=2)\n",
    "loss_function = nn.MSELoss()\n",
    "optimizer = optim.Adam(model.parameters(), lr=0.001)"
   ]
  },
  {
   "cell_type": "markdown",
   "metadata": {},
   "source": [
    "### Create PyTorch Training Loop"
   ]
  },
  {
   "cell_type": "code",
   "execution_count": 12,
   "metadata": {},
   "outputs": [
    {
     "name": "stdout",
     "output_type": "stream",
     "text": [
      "Epoch 0 Loss: 1.2220\n",
      "Epoch 1 Loss: 1.1016\n",
      "Epoch 2 Loss: 0.9940\n",
      "Epoch 3 Loss: 0.9016\n",
      "Epoch 4 Loss: 0.8158\n",
      "Epoch 5 Loss: 0.7418\n",
      "Epoch 6 Loss: 0.6636\n",
      "Epoch 7 Loss: 0.6054\n",
      "Epoch 8 Loss: 0.5443\n",
      "Epoch 9 Loss: 0.4925\n",
      "Epoch 10 Loss: 0.4516\n",
      "Epoch 11 Loss: 0.4156\n",
      "Epoch 12 Loss: 0.3816\n",
      "Epoch 13 Loss: 0.3570\n",
      "Epoch 14 Loss: 0.3341\n",
      "Epoch 15 Loss: 0.3152\n",
      "Epoch 16 Loss: 0.3019\n",
      "Epoch 17 Loss: 0.2837\n",
      "Epoch 18 Loss: 0.2711\n",
      "Epoch 19 Loss: 0.2590\n"
     ]
    }
   ],
   "source": [
    "for epoch in range(20):  # Loop over the dataset multiple times\n",
    "    total_loss = 0.0\n",
    "    for number_pairs, sums in data_loader:   # Iterate over batches of data\n",
    "        predictions = model(number_pairs)    # Forward pass\n",
    "        loss = loss_function(predictions, sums)  # Compute the loss\n",
    "        loss.backward()  # Perform backpropagation\n",
    "        optimizer.step() # Update the weights\n",
    "        optimizer.zero_grad() # Zero the gradients\n",
    "\n",
    "        total_loss += loss.item()  # Accumulate the loss\n",
    "\n",
    "    # print the loss this epoch\n",
    "    print(f'Epoch {epoch} Loss: {total_loss:.4f}')"
   ]
  },
  {
   "cell_type": "markdown",
   "metadata": {},
   "source": [
    "### Test the model"
   ]
  },
  {
   "cell_type": "code",
   "execution_count": 13,
   "metadata": {},
   "outputs": [
    {
     "data": {
      "text/plain": [
       "tensor([[11.0119]], grad_fn=<AddmmBackward0>)"
      ]
     },
     "execution_count": 13,
     "metadata": {},
     "output_type": "execute_result"
    }
   ],
   "source": [
    "# Test with 5 + 6\n",
    "model(torch.tensor([[5.0, 6.0]]))"
   ]
  },
  {
   "cell_type": "code",
   "execution_count": 14,
   "metadata": {},
   "outputs": [
    {
     "data": {
      "text/plain": [
       "tensor([[61.0070]], grad_fn=<AddmmBackward0>)"
      ]
     },
     "execution_count": 14,
     "metadata": {},
     "output_type": "execute_result"
    }
   ],
   "source": [
    "# Test with 25 + 36\n",
    "model(torch.tensor([[25.0, 36.0]]))"
   ]
  },
  {
   "cell_type": "code",
   "execution_count": null,
   "metadata": {},
   "outputs": [],
   "source": []
  }
 ],
 "metadata": {
  "kernelspec": {
   "display_name": ".venv",
   "language": "python",
   "name": "python3"
  },
  "language_info": {
   "codemirror_mode": {
    "name": "ipython",
    "version": 3
   },
   "file_extension": ".py",
   "mimetype": "text/x-python",
   "name": "python",
   "nbconvert_exporter": "python",
   "pygments_lexer": "ipython3",
   "version": "3.12.7"
  }
 },
 "nbformat": 4,
 "nbformat_minor": 2
}
