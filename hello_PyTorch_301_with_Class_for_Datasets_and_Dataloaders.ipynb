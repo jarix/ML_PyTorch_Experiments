{
 "cells": [
  {
   "cell_type": "markdown",
   "id": "e27eb129",
   "metadata": {},
   "source": [
    "# Hello PyTorch 301 with class for Datasets and Dataloaders, Model Saving with Linear Regression Example"
   ]
  },
  {
   "cell_type": "code",
   "execution_count": 1,
   "id": "b762842f",
   "metadata": {},
   "outputs": [],
   "source": [
    "# Prerequisites\n",
    "import numpy as np\n",
    "import pandas as pd\n",
    "import seaborn as sns\n",
    "\n",
    "import torch\n",
    "import torch.nn as nn \n",
    "from torch.utils.data import Dataset, DataLoader"
   ]
  },
  {
   "cell_type": "markdown",
   "id": "195f8f56",
   "metadata": {},
   "source": [
    "### Get Dataset"
   ]
  },
  {
   "cell_type": "code",
   "execution_count": 3,
   "id": "0e56045e",
   "metadata": {},
   "outputs": [
    {
     "data": {
      "application/vnd.microsoft.datawrangler.viewer.v0+json": {
       "columns": [
        {
         "name": "index",
         "rawType": "int64",
         "type": "integer"
        },
        {
         "name": "Unnamed: 0",
         "rawType": "object",
         "type": "string"
        },
        {
         "name": "mpg",
         "rawType": "float64",
         "type": "float"
        },
        {
         "name": "cyl",
         "rawType": "int64",
         "type": "integer"
        },
        {
         "name": "disp",
         "rawType": "float64",
         "type": "float"
        },
        {
         "name": "hp",
         "rawType": "int64",
         "type": "integer"
        },
        {
         "name": "drat",
         "rawType": "float64",
         "type": "float"
        },
        {
         "name": "wt",
         "rawType": "float64",
         "type": "float"
        },
        {
         "name": "qsec",
         "rawType": "float64",
         "type": "float"
        },
        {
         "name": "vs",
         "rawType": "int64",
         "type": "integer"
        },
        {
         "name": "am",
         "rawType": "int64",
         "type": "integer"
        },
        {
         "name": "gear",
         "rawType": "int64",
         "type": "integer"
        },
        {
         "name": "carb",
         "rawType": "int64",
         "type": "integer"
        }
       ],
       "ref": "2e54b734-973e-476a-9aa5-2c6292276f65",
       "rows": [
        [
         "0",
         "Mazda RX4",
         "21.0",
         "6",
         "160.0",
         "110",
         "3.9",
         "2.62",
         "16.46",
         "0",
         "1",
         "4",
         "4"
        ],
        [
         "1",
         "Mazda RX4 Wag",
         "21.0",
         "6",
         "160.0",
         "110",
         "3.9",
         "2.875",
         "17.02",
         "0",
         "1",
         "4",
         "4"
        ],
        [
         "2",
         "Datsun 710",
         "22.8",
         "4",
         "108.0",
         "93",
         "3.85",
         "2.32",
         "18.61",
         "1",
         "1",
         "4",
         "1"
        ],
        [
         "3",
         "Hornet 4 Drive",
         "21.4",
         "6",
         "258.0",
         "110",
         "3.08",
         "3.215",
         "19.44",
         "1",
         "0",
         "3",
         "1"
        ],
        [
         "4",
         "Hornet Sportabout",
         "18.7",
         "8",
         "360.0",
         "175",
         "3.15",
         "3.44",
         "17.02",
         "0",
         "0",
         "3",
         "2"
        ],
        [
         "5",
         "Valiant",
         "18.1",
         "6",
         "225.0",
         "105",
         "2.76",
         "3.46",
         "20.22",
         "1",
         "0",
         "3",
         "1"
        ],
        [
         "6",
         "Duster 360",
         "14.3",
         "8",
         "360.0",
         "245",
         "3.21",
         "3.57",
         "15.84",
         "0",
         "0",
         "3",
         "4"
        ],
        [
         "7",
         "Merc 240D",
         "24.4",
         "4",
         "146.7",
         "62",
         "3.69",
         "3.19",
         "20.0",
         "1",
         "0",
         "4",
         "2"
        ],
        [
         "8",
         "Merc 230",
         "22.8",
         "4",
         "140.8",
         "95",
         "3.92",
         "3.15",
         "22.9",
         "1",
         "0",
         "4",
         "2"
        ],
        [
         "9",
         "Merc 280",
         "19.2",
         "6",
         "167.6",
         "123",
         "3.92",
         "3.44",
         "18.3",
         "1",
         "0",
         "4",
         "4"
        ]
       ],
       "shape": {
        "columns": 12,
        "rows": 10
       }
      },
      "text/html": [
       "<div>\n",
       "<style scoped>\n",
       "    .dataframe tbody tr th:only-of-type {\n",
       "        vertical-align: middle;\n",
       "    }\n",
       "\n",
       "    .dataframe tbody tr th {\n",
       "        vertical-align: top;\n",
       "    }\n",
       "\n",
       "    .dataframe thead th {\n",
       "        text-align: right;\n",
       "    }\n",
       "</style>\n",
       "<table border=\"1\" class=\"dataframe\">\n",
       "  <thead>\n",
       "    <tr style=\"text-align: right;\">\n",
       "      <th></th>\n",
       "      <th>Unnamed: 0</th>\n",
       "      <th>mpg</th>\n",
       "      <th>cyl</th>\n",
       "      <th>disp</th>\n",
       "      <th>hp</th>\n",
       "      <th>drat</th>\n",
       "      <th>wt</th>\n",
       "      <th>qsec</th>\n",
       "      <th>vs</th>\n",
       "      <th>am</th>\n",
       "      <th>gear</th>\n",
       "      <th>carb</th>\n",
       "    </tr>\n",
       "  </thead>\n",
       "  <tbody>\n",
       "    <tr>\n",
       "      <th>0</th>\n",
       "      <td>Mazda RX4</td>\n",
       "      <td>21.0</td>\n",
       "      <td>6</td>\n",
       "      <td>160.0</td>\n",
       "      <td>110</td>\n",
       "      <td>3.90</td>\n",
       "      <td>2.620</td>\n",
       "      <td>16.46</td>\n",
       "      <td>0</td>\n",
       "      <td>1</td>\n",
       "      <td>4</td>\n",
       "      <td>4</td>\n",
       "    </tr>\n",
       "    <tr>\n",
       "      <th>1</th>\n",
       "      <td>Mazda RX4 Wag</td>\n",
       "      <td>21.0</td>\n",
       "      <td>6</td>\n",
       "      <td>160.0</td>\n",
       "      <td>110</td>\n",
       "      <td>3.90</td>\n",
       "      <td>2.875</td>\n",
       "      <td>17.02</td>\n",
       "      <td>0</td>\n",
       "      <td>1</td>\n",
       "      <td>4</td>\n",
       "      <td>4</td>\n",
       "    </tr>\n",
       "    <tr>\n",
       "      <th>2</th>\n",
       "      <td>Datsun 710</td>\n",
       "      <td>22.8</td>\n",
       "      <td>4</td>\n",
       "      <td>108.0</td>\n",
       "      <td>93</td>\n",
       "      <td>3.85</td>\n",
       "      <td>2.320</td>\n",
       "      <td>18.61</td>\n",
       "      <td>1</td>\n",
       "      <td>1</td>\n",
       "      <td>4</td>\n",
       "      <td>1</td>\n",
       "    </tr>\n",
       "    <tr>\n",
       "      <th>3</th>\n",
       "      <td>Hornet 4 Drive</td>\n",
       "      <td>21.4</td>\n",
       "      <td>6</td>\n",
       "      <td>258.0</td>\n",
       "      <td>110</td>\n",
       "      <td>3.08</td>\n",
       "      <td>3.215</td>\n",
       "      <td>19.44</td>\n",
       "      <td>1</td>\n",
       "      <td>0</td>\n",
       "      <td>3</td>\n",
       "      <td>1</td>\n",
       "    </tr>\n",
       "    <tr>\n",
       "      <th>4</th>\n",
       "      <td>Hornet Sportabout</td>\n",
       "      <td>18.7</td>\n",
       "      <td>8</td>\n",
       "      <td>360.0</td>\n",
       "      <td>175</td>\n",
       "      <td>3.15</td>\n",
       "      <td>3.440</td>\n",
       "      <td>17.02</td>\n",
       "      <td>0</td>\n",
       "      <td>0</td>\n",
       "      <td>3</td>\n",
       "      <td>2</td>\n",
       "    </tr>\n",
       "    <tr>\n",
       "      <th>5</th>\n",
       "      <td>Valiant</td>\n",
       "      <td>18.1</td>\n",
       "      <td>6</td>\n",
       "      <td>225.0</td>\n",
       "      <td>105</td>\n",
       "      <td>2.76</td>\n",
       "      <td>3.460</td>\n",
       "      <td>20.22</td>\n",
       "      <td>1</td>\n",
       "      <td>0</td>\n",
       "      <td>3</td>\n",
       "      <td>1</td>\n",
       "    </tr>\n",
       "    <tr>\n",
       "      <th>6</th>\n",
       "      <td>Duster 360</td>\n",
       "      <td>14.3</td>\n",
       "      <td>8</td>\n",
       "      <td>360.0</td>\n",
       "      <td>245</td>\n",
       "      <td>3.21</td>\n",
       "      <td>3.570</td>\n",
       "      <td>15.84</td>\n",
       "      <td>0</td>\n",
       "      <td>0</td>\n",
       "      <td>3</td>\n",
       "      <td>4</td>\n",
       "    </tr>\n",
       "    <tr>\n",
       "      <th>7</th>\n",
       "      <td>Merc 240D</td>\n",
       "      <td>24.4</td>\n",
       "      <td>4</td>\n",
       "      <td>146.7</td>\n",
       "      <td>62</td>\n",
       "      <td>3.69</td>\n",
       "      <td>3.190</td>\n",
       "      <td>20.00</td>\n",
       "      <td>1</td>\n",
       "      <td>0</td>\n",
       "      <td>4</td>\n",
       "      <td>2</td>\n",
       "    </tr>\n",
       "    <tr>\n",
       "      <th>8</th>\n",
       "      <td>Merc 230</td>\n",
       "      <td>22.8</td>\n",
       "      <td>4</td>\n",
       "      <td>140.8</td>\n",
       "      <td>95</td>\n",
       "      <td>3.92</td>\n",
       "      <td>3.150</td>\n",
       "      <td>22.90</td>\n",
       "      <td>1</td>\n",
       "      <td>0</td>\n",
       "      <td>4</td>\n",
       "      <td>2</td>\n",
       "    </tr>\n",
       "    <tr>\n",
       "      <th>9</th>\n",
       "      <td>Merc 280</td>\n",
       "      <td>19.2</td>\n",
       "      <td>6</td>\n",
       "      <td>167.6</td>\n",
       "      <td>123</td>\n",
       "      <td>3.92</td>\n",
       "      <td>3.440</td>\n",
       "      <td>18.30</td>\n",
       "      <td>1</td>\n",
       "      <td>0</td>\n",
       "      <td>4</td>\n",
       "      <td>4</td>\n",
       "    </tr>\n",
       "  </tbody>\n",
       "</table>\n",
       "</div>"
      ],
      "text/plain": [
       "          Unnamed: 0   mpg  cyl   disp   hp  drat     wt   qsec  vs  am  gear  \\\n",
       "0          Mazda RX4  21.0    6  160.0  110  3.90  2.620  16.46   0   1     4   \n",
       "1      Mazda RX4 Wag  21.0    6  160.0  110  3.90  2.875  17.02   0   1     4   \n",
       "2         Datsun 710  22.8    4  108.0   93  3.85  2.320  18.61   1   1     4   \n",
       "3     Hornet 4 Drive  21.4    6  258.0  110  3.08  3.215  19.44   1   0     3   \n",
       "4  Hornet Sportabout  18.7    8  360.0  175  3.15  3.440  17.02   0   0     3   \n",
       "5            Valiant  18.1    6  225.0  105  2.76  3.460  20.22   1   0     3   \n",
       "6         Duster 360  14.3    8  360.0  245  3.21  3.570  15.84   0   0     3   \n",
       "7          Merc 240D  24.4    4  146.7   62  3.69  3.190  20.00   1   0     4   \n",
       "8           Merc 230  22.8    4  140.8   95  3.92  3.150  22.90   1   0     4   \n",
       "9           Merc 280  19.2    6  167.6  123  3.92  3.440  18.30   1   0     4   \n",
       "\n",
       "   carb  \n",
       "0     4  \n",
       "1     4  \n",
       "2     1  \n",
       "3     1  \n",
       "4     2  \n",
       "5     1  \n",
       "6     4  \n",
       "7     2  \n",
       "8     2  \n",
       "9     4  "
      ]
     },
     "execution_count": 3,
     "metadata": {},
     "output_type": "execute_result"
    }
   ],
   "source": [
    "data_file = 'data/cars.csv'\n",
    "df_cars = pd.read_csv(data_file)\n",
    "df_cars.head(10)"
   ]
  },
  {
   "cell_type": "markdown",
   "id": "6b47e77d",
   "metadata": {},
   "source": [
    "### Visualize Data"
   ]
  },
  {
   "cell_type": "code",
   "execution_count": 4,
   "id": "d850a3ce",
   "metadata": {},
   "outputs": [
    {
     "data": {
      "text/plain": [
       "<Axes: xlabel='wt', ylabel='mpg'>"
      ]
     },
     "execution_count": 4,
     "metadata": {},
     "output_type": "execute_result"
    },
    {
     "data": {
      "image/png": "[encoded data removed]",
      "text/plain": [
       "<Figure size 640x480 with 1 Axes>"
      ]
     },
     "metadata": {},
     "output_type": "display_data"
    }
   ],
   "source": [
    "sns.scatterplot(x='wt', y='mpg', data=df_cars)\n",
    "sns.regplot(x='wt', y='mpg', data=df_cars)"
   ]
  },
  {
   "cell_type": "markdown",
   "id": "ad3dbe45",
   "metadata": {},
   "source": [
    "### Convert Data to Tensors"
   ]
  },
  {
   "cell_type": "code",
   "execution_count": 5,
   "id": "4233f861",
   "metadata": {},
   "outputs": [
    {
     "name": "stdout",
     "output_type": "stream",
     "text": [
      "X_List:  (32,)\n",
      "X_np:  (32, 1)\n",
      "y_List:  (32,)\n",
      "y_np:  (32, 1)\n"
     ]
    }
   ],
   "source": [
    "X_list = df_cars.wt.values\n",
    "print(\"X_List: \", X_list.shape)\n",
    "X_np = np.array(X_list, dtype=np.float32).reshape(-1,1)\n",
    "print(\"X_np: \", X_np.shape)\n",
    "y_list = df_cars.mpg.values\n",
    "print(\"y_List: \", y_list.shape)\n",
    "y_np = np.array(y_list, dtype=np.float32).reshape(-1,1)\n",
    "print(\"y_np: \", y_np.shape)\n",
    "X = torch.from_numpy(X_np)\n",
    "y_true = torch.from_numpy(y_np)"
   ]
  },
  {
   "cell_type": "markdown",
   "id": "533ef6f5",
   "metadata": {},
   "source": [
    "### Create DataSet and DataLoader"
   ]
  },
  {
   "cell_type": "code",
   "execution_count": 6,
   "id": "57620bde",
   "metadata": {},
   "outputs": [],
   "source": [
    "class LinearRegressionDateSet(Dataset):\n",
    "    def __init__(self, X, y):\n",
    "        self.X = X\n",
    "        self.y = y\n",
    "\n",
    "    def __len__(self):\n",
    "        return len(self.X)\n",
    "\n",
    "    def __getitem__(self, idx):\n",
    "        return self.X[idx], self.y[idx]\n",
    "    \n",
    "train_loader = DataLoader(dataset=LinearRegressionDateSet(X_np, y_np), batch_size=2)"
   ]
  },
  {
   "cell_type": "markdown",
   "id": "acc4b58d",
   "metadata": {},
   "source": [
    "### Create Model Class"
   ]
  },
  {
   "cell_type": "code",
   "execution_count": 7,
   "id": "7edb63c5",
   "metadata": {},
   "outputs": [],
   "source": [
    "# Simple Linear Regression Model Class\n",
    "class LinearRegressionModel(nn.Module):\n",
    "    def __init__(self, input_dim, output_dim):\n",
    "        super(LinearRegressionModel, self).__init__()\n",
    "        self.linear = nn.Linear(input_dim, output_dim)\n",
    "\n",
    "    def forward(self, x):\n",
    "        out = self.linear(x)\n",
    "        return out"
   ]
  },
  {
   "cell_type": "markdown",
   "id": "a385377c",
   "metadata": {},
   "source": [
    "### Instatiate Model"
   ]
  },
  {
   "cell_type": "code",
   "execution_count": 8,
   "id": "8fe88f62",
   "metadata": {},
   "outputs": [
    {
     "name": "stdout",
     "output_type": "stream",
     "text": [
      "LinearRegressionModel(\n",
      "  (linear): Linear(in_features=1, out_features=1, bias=True)\n",
      ")\n"
     ]
    }
   ],
   "source": [
    "# Instantiate Model\n",
    "input_dim = 1\n",
    "output_dim = 1\n",
    "model = LinearRegressionModel(input_dim, output_dim)\n",
    "print(model)"
   ]
  },
  {
   "cell_type": "markdown",
   "id": "240bcffa",
   "metadata": {},
   "source": [
    "### Define Hyperparameters"
   ]
  },
  {
   "cell_type": "code",
   "execution_count": 9,
   "id": "a49ecd8d",
   "metadata": {},
   "outputs": [],
   "source": [
    "# Use Mean Squared Error Loss Function\n",
    "loss_func = nn.MSELoss()\n",
    "\n",
    "# Learning Rate\n",
    "LR = 0.02\n",
    "\n",
    "# Optimizer Stochastic Gradient Descent\n",
    "optimizer = torch.optim.SGD(model.parameters(), lr=LR)\n",
    "\n",
    "# Number of Epochs\n",
    "NR_EPOCHS = 1000\n",
    "\n",
    "# Batch Size\n",
    "BATCH_SIZE = 2"
   ]
  },
  {
   "cell_type": "code",
   "execution_count": 10,
   "id": "9761b242",
   "metadata": {},
   "outputs": [
    {
     "name": "stdout",
     "output_type": "stream",
     "text": [
      "Batch 0: [tensor([[2.6200],\n",
      "        [2.8750]]), tensor([[21.],\n",
      "        [21.]])]\n",
      "Batch 1: [tensor([[2.3200],\n",
      "        [3.2150]]), tensor([[22.8000],\n",
      "        [21.4000]])]\n",
      "Batch 2: [tensor([[3.4400],\n",
      "        [3.4600]]), tensor([[18.7000],\n",
      "        [18.1000]])]\n",
      "Batch 3: [tensor([[3.5700],\n",
      "        [3.1900]]), tensor([[14.3000],\n",
      "        [24.4000]])]\n",
      "Batch 4: [tensor([[3.1500],\n",
      "        [3.4400]]), tensor([[22.8000],\n",
      "        [19.2000]])]\n",
      "Batch 5: [tensor([[3.4400],\n",
      "        [4.0700]]), tensor([[17.8000],\n",
      "        [16.4000]])]\n",
      "Batch 6: [tensor([[3.7300],\n",
      "        [3.7800]]), tensor([[17.3000],\n",
      "        [15.2000]])]\n",
      "Batch 7: [tensor([[5.2500],\n",
      "        [5.4240]]), tensor([[10.4000],\n",
      "        [10.4000]])]\n",
      "Batch 8: [tensor([[5.3450],\n",
      "        [2.2000]]), tensor([[14.7000],\n",
      "        [32.4000]])]\n",
      "Batch 9: [tensor([[1.6150],\n",
      "        [1.8350]]), tensor([[30.4000],\n",
      "        [33.9000]])]\n",
      "Batch 10: [tensor([[2.4650],\n",
      "        [3.5200]]), tensor([[21.5000],\n",
      "        [15.5000]])]\n",
      "Batch 11: [tensor([[3.4350],\n",
      "        [3.8400]]), tensor([[15.2000],\n",
      "        [13.3000]])]\n",
      "Batch 12: [tensor([[3.8450],\n",
      "        [1.9350]]), tensor([[19.2000],\n",
      "        [27.3000]])]\n",
      "Batch 13: [tensor([[2.1400],\n",
      "        [1.5130]]), tensor([[26.0000],\n",
      "        [30.4000]])]\n",
      "Batch 14: [tensor([[3.1700],\n",
      "        [2.7700]]), tensor([[15.8000],\n",
      "        [19.7000]])]\n",
      "Batch 15: [tensor([[3.5700],\n",
      "        [2.7800]]), tensor([[15.0000],\n",
      "        [21.4000]])]\n",
      "Batch 0: X = tensor([[2.6200],\n",
      "        [2.8750]]), y = tensor([[21.],\n",
      "        [21.]])\n",
      "Batch 1: X = tensor([[2.3200],\n",
      "        [3.2150]]), y = tensor([[22.8000],\n",
      "        [21.4000]])\n",
      "Batch 2: X = tensor([[3.4400],\n",
      "        [3.4600]]), y = tensor([[18.7000],\n",
      "        [18.1000]])\n",
      "Batch 3: X = tensor([[3.5700],\n",
      "        [3.1900]]), y = tensor([[14.3000],\n",
      "        [24.4000]])\n",
      "Batch 4: X = tensor([[3.1500],\n",
      "        [3.4400]]), y = tensor([[22.8000],\n",
      "        [19.2000]])\n",
      "Batch 5: X = tensor([[3.4400],\n",
      "        [4.0700]]), y = tensor([[17.8000],\n",
      "        [16.4000]])\n",
      "Batch 6: X = tensor([[3.7300],\n",
      "        [3.7800]]), y = tensor([[17.3000],\n",
      "        [15.2000]])\n",
      "Batch 7: X = tensor([[5.2500],\n",
      "        [5.4240]]), y = tensor([[10.4000],\n",
      "        [10.4000]])\n",
      "Batch 8: X = tensor([[5.3450],\n",
      "        [2.2000]]), y = tensor([[14.7000],\n",
      "        [32.4000]])\n",
      "Batch 9: X = tensor([[1.6150],\n",
      "        [1.8350]]), y = tensor([[30.4000],\n",
      "        [33.9000]])\n",
      "Batch 10: X = tensor([[2.4650],\n",
      "        [3.5200]]), y = tensor([[21.5000],\n",
      "        [15.5000]])\n",
      "Batch 11: X = tensor([[3.4350],\n",
      "        [3.8400]]), y = tensor([[15.2000],\n",
      "        [13.3000]])\n",
      "Batch 12: X = tensor([[3.8450],\n",
      "        [1.9350]]), y = tensor([[19.2000],\n",
      "        [27.3000]])\n",
      "Batch 13: X = tensor([[2.1400],\n",
      "        [1.5130]]), y = tensor([[26.0000],\n",
      "        [30.4000]])\n",
      "Batch 14: X = tensor([[3.1700],\n",
      "        [2.7700]]), y = tensor([[15.8000],\n",
      "        [19.7000]])\n",
      "Batch 15: X = tensor([[3.5700],\n",
      "        [2.7800]]), y = tensor([[15.0000],\n",
      "        [21.4000]])\n"
     ]
    }
   ],
   "source": [
    "# Check train_loader\n",
    "for i, data in enumerate(train_loader):\n",
    "    print(f'Batch {i}: {data}')\n",
    "\n",
    "# Separate X and y from data\n",
    "for i, (X, y) in enumerate(train_loader):\n",
    "    print(f'Batch {i}: X = {X}, y = {y}')\n",
    "\n"
   ]
  },
  {
   "cell_type": "markdown",
   "id": "d9d01a71",
   "metadata": {},
   "source": [
    "### Define Training Loop"
   ]
  },
  {
   "cell_type": "code",
   "execution_count": 11,
   "id": "954b4694",
   "metadata": {},
   "outputs": [
    {
     "name": "stdout",
     "output_type": "stream",
     "text": [
      "Epoch 1: loss = 35.9689\n",
      "Epoch 101: loss = 1.5693\n",
      "Epoch 201: loss = 1.4115\n",
      "Epoch 301: loss = 1.4094\n",
      "Epoch 401: loss = 1.4094\n",
      "Epoch 501: loss = 1.4094\n",
      "Epoch 601: loss = 1.4094\n",
      "Epoch 701: loss = 1.4094\n",
      "Epoch 801: loss = 1.4094\n",
      "Epoch 901: loss = 1.4094\n"
     ]
    }
   ],
   "source": [
    "# Lists to store loss and parameters\n",
    "losses, slope, bias = [], [], []\n",
    "\n",
    "for epoch in range(NR_EPOCHS):\n",
    "\n",
    "    for i, (X, y) in enumerate(train_loader):\n",
    "        \n",
    "        # Set gradients to zero\n",
    "        optimizer.zero_grad()\n",
    "\n",
    "        # Forward pass: Compute predicted y by passing batch_size number of samples to the model\n",
    "        y_pred = model(X)\n",
    "\n",
    "        # Compute loss\n",
    "        loss = loss_func(y_pred, y)\n",
    "        loss.backward()  # Calculate gradients\n",
    "\n",
    "        # update weights\n",
    "        optimizer.step()\n",
    "\n",
    "    # Get parameters\n",
    "    for name, param in model.named_parameters():\n",
    "        if param.requires_grad:\n",
    "            if name == 'linear.weight':\n",
    "                #slope.append(param.data.numpy()[0][0])\n",
    "                slope.append(param.item())\n",
    "            if name == 'linear.bias':\n",
    "                #bias.append(param.data.numpy()[0])\n",
    "                bias.append(param.item())\n",
    "\n",
    "    # Store loss\n",
    "    losses.append(loss.item())\n",
    "\n",
    "    # Print every 100 epochs\n",
    "    if epoch % 100 == 0:\n",
    "        print(f'Epoch {epoch+1}: loss = {loss.item():.4f}')\n"
   ]
  },
  {
   "cell_type": "markdown",
   "id": "43a6ee45",
   "metadata": {},
   "source": [
    "### Visualize Parameters"
   ]
  },
  {
   "cell_type": "code",
   "execution_count": 12,
   "id": "8dd8542c",
   "metadata": {},
   "outputs": [
    {
     "data": {
      "text/plain": [
       "<Axes: >"
      ]
     },
     "execution_count": 12,
     "metadata": {},
     "output_type": "execute_result"
    },
    {
     "data": {
      "image/png": "[encoded data removed]",
      "text/plain": [
       "<Figure size 640x480 with 1 Axes>"
      ]
     },
     "metadata": {},
     "output_type": "display_data"
    }
   ],
   "source": [
    "# Visualize losses\n",
    "sns.scatterplot(x=range(NR_EPOCHS), y=losses)"
   ]
  },
  {
   "cell_type": "code",
   "execution_count": 13,
   "id": "51195edf",
   "metadata": {},
   "outputs": [
    {
     "data": {
      "text/plain": [
       "<Axes: >"
      ]
     },
     "execution_count": 13,
     "metadata": {},
     "output_type": "execute_result"
    },
    {
     "data": {
      "image/png": "[encoded data removed]",
      "text/plain": [
       "<Figure size 640x480 with 1 Axes>"
      ]
     },
     "metadata": {},
     "output_type": "display_data"
    }
   ],
   "source": [
    "# Visualize slope\n",
    "sns.lineplot(x=range(NR_EPOCHS), y=slope)"
   ]
  },
  {
   "cell_type": "code",
   "execution_count": 14,
   "id": "3bfad662",
   "metadata": {},
   "outputs": [
    {
     "data": {
      "text/plain": [
       "<Axes: >"
      ]
     },
     "execution_count": 14,
     "metadata": {},
     "output_type": "execute_result"
    },
    {
     "data": {
      "image/png": "[encoded data removed]",
      "text/plain": [
       "<Figure size 640x480 with 1 Axes>"
      ]
     },
     "metadata": {},
     "output_type": "display_data"
    }
   ],
   "source": [
    "# Visualize bias\n",
    "sns.lineplot(x=range(NR_EPOCHS), y=bias)"
   ]
  },
  {
   "cell_type": "markdown",
   "id": "96209b7a",
   "metadata": {},
   "source": [
    "### Model Saving"
   ]
  },
  {
   "cell_type": "code",
   "execution_count": 15,
   "id": "44d1cd6e",
   "metadata": {},
   "outputs": [
    {
     "data": {
      "text/plain": [
       "OrderedDict([('linear.weight', tensor([[-5.7225]])),\n",
       "             ('linear.bias', tensor([36.6935]))])"
      ]
     },
     "execution_count": 15,
     "metadata": {},
     "output_type": "execute_result"
    }
   ],
   "source": [
    "model.state_dict()"
   ]
  },
  {
   "cell_type": "code",
   "execution_count": 16,
   "id": "b4a0ecca",
   "metadata": {},
   "outputs": [],
   "source": [
    "# Save model state dict\n",
    "torch.save(model.state_dict(), 'saved_models/Hello_PyTorch_301_model_state_dict.pth')"
   ]
  },
  {
   "cell_type": "markdown",
   "id": "87bb37d9",
   "metadata": {},
   "source": [
    "### Load the Model"
   ]
  },
  {
   "cell_type": "code",
   "execution_count": 17,
   "id": "71ec55ba",
   "metadata": {},
   "outputs": [
    {
     "data": {
      "text/plain": [
       "OrderedDict([('linear.weight', tensor([[-0.9438]])),\n",
       "             ('linear.bias', tensor([0.1620]))])"
      ]
     },
     "execution_count": 17,
     "metadata": {},
     "output_type": "execute_result"
    }
   ],
   "source": [
    "model = LinearRegressionModel(input_dim=input_dim, output_dim=output_dim)\n",
    "model.state_dict()  # randomly initialized\n"
   ]
  },
  {
   "cell_type": "code",
   "execution_count": 18,
   "id": "9341c05c",
   "metadata": {},
   "outputs": [
    {
     "data": {
      "text/plain": [
       "OrderedDict([('linear.weight', tensor([[-5.7225]])),\n",
       "             ('linear.bias', tensor([36.6935]))])"
      ]
     },
     "execution_count": 18,
     "metadata": {},
     "output_type": "execute_result"
    }
   ],
   "source": [
    "model.load_state_dict(torch.load('saved_models/Hello_PyTorch_301_model_state_dict.pth'))\n",
    "model.state_dict()"
   ]
  }
 ],
 "metadata": {
  "kernelspec": {
   "display_name": ".venv",
   "language": "python",
   "name": "python3"
  },
  "language_info": {
   "codemirror_mode": {
    "name": "ipython",
    "version": 3
   },
   "file_extension": ".py",
   "mimetype": "text/x-python",
   "name": "python",
   "nbconvert_exporter": "python",
   "pygments_lexer": "ipython3",
   "version": "3.12.7"
  }
 },
 "nbformat": 4,
 "nbformat_minor": 5
}
