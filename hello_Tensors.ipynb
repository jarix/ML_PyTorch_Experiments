{
 "cells": [
  {
   "cell_type": "markdown",
   "id": "882f16e4",
   "metadata": {},
   "source": [
    "# Hello PyTorch Tensors"
   ]
  },
  {
   "cell_type": "code",
   "execution_count": 4,
   "id": "bfbe277c",
   "metadata": {},
   "outputs": [],
   "source": [
    "# Prerequisites\n",
    "import torch\n",
    "import numpy as np\n",
    "import seaborn as sns"
   ]
  },
  {
   "cell_type": "markdown",
   "id": "2df6b0f2",
   "metadata": {},
   "source": [
    "### Auto Gradient"
   ]
  },
  {
   "cell_type": "code",
   "execution_count": 5,
   "id": "5048803d",
   "metadata": {},
   "outputs": [
    {
     "name": "stdout",
     "output_type": "stream",
     "text": [
      "dy/dx at x=1:  tensor(31.)\n"
     ]
    }
   ],
   "source": [
    "# Create a Tensor with gradient\n",
    "x = torch.tensor(1.0, requires_grad=True)\n",
    "\n",
    "# Define a simple function\n",
    "y = (x-3) * (x-6) * (x-4)\n",
    "\n",
    "# Compute the gradient\n",
    "y.backward()\n",
    "\n",
    "# Print the gradient \n",
    "print(\"dy/dx at x=1: \", x.grad) \n"
   ]
  },
  {
   "cell_type": "markdown",
   "id": "a97ae8b4",
   "metadata": {},
   "source": [
    "### Network Example"
   ]
  },
  {
   "cell_type": "code",
   "execution_count": 19,
   "id": "348015d7",
   "metadata": {},
   "outputs": [
    {
     "name": "stdout",
     "output_type": "stream",
     "text": [
      "x =  tensor(5.5000)\n",
      "y =  tensor(10.5000)\n"
     ]
    }
   ],
   "source": [
    "# Create a tensor\n",
    "x = torch.tensor(5.5)\n",
    "\n",
    "# Simple tensor calculation\n",
    "y = x + 5\n",
    "\n",
    "print(\"x = \", x)\n",
    "print(\"y = \", y)\n",
    "\n"
   ]
  },
  {
   "cell_type": "code",
   "execution_count": 20,
   "id": "f4a4ac6d",
   "metadata": {},
   "outputs": [
    {
     "name": "stdout",
     "output_type": "stream",
     "text": [
      "False\n",
      "True\n"
     ]
    }
   ],
   "source": [
    "# Check if tensor requires gradient\n",
    "print(x.requires_grad)\n",
    "\n",
    "x = torch.tensor(2.0, requires_grad=True)\n",
    "print(x.requires_grad)\n"
   ]
  },
  {
   "cell_type": "code",
   "execution_count": 21,
   "id": "eb5ba05b",
   "metadata": {},
   "outputs": [
    {
     "data": {
      "text/plain": [
       "<Axes: >"
      ]
     },
     "execution_count": 21,
     "metadata": {},
     "output_type": "execute_result"
    },
    {
     "data": {
      "image/png": "[encoded data removed]",
      "text/plain": [
       "<Figure size 640x480 with 1 Axes>"
      ]
     },
     "metadata": {},
     "output_type": "display_data"
    }
   ],
   "source": [
    "def y_func(val):\n",
    "    result = (val-3) * (val-6) * (val-4)\n",
    "    return result\n",
    "\n",
    "x_range = np.linspace(0, 10, 101)\n",
    "y_range = [y_func(x) for x in x_range]\n",
    "sns.lineplot(x=x_range, y=y_range)"
   ]
  },
  {
   "cell_type": "code",
   "execution_count": 22,
   "id": "acf4bd61",
   "metadata": {},
   "outputs": [
    {
     "name": "stdout",
     "output_type": "stream",
     "text": [
      "x =  tensor(2., requires_grad=True)\n",
      "dy/dx (at x=2) =  tensor(14.)\n"
     ]
    }
   ],
   "source": [
    "# Calculate gradients\n",
    "y = (x-3) * (x-6) * (x-4)\n",
    "y.backward()\n",
    "print(\"x = \", x)\n",
    "print(\"dy/dx (at x=2) = \", x.grad)"
   ]
  },
  {
   "cell_type": "code",
   "execution_count": 23,
   "id": "c2eae86c",
   "metadata": {},
   "outputs": [
    {
     "name": "stdout",
     "output_type": "stream",
     "text": [
      "dz/dx (at x=1):  tensor(15.)\n"
     ]
    }
   ],
   "source": [
    "x = torch.tensor(1.0, requires_grad=True)\n",
    "y = x**3\n",
    "z = 5*y - 4\n",
    "z.backward()\n",
    "print(\"dz/dx (at x=1): \", x.grad)"
   ]
  },
  {
   "cell_type": "code",
   "execution_count": 25,
   "id": "d7c62a09",
   "metadata": {},
   "outputs": [
    {
     "name": "stdout",
     "output_type": "stream",
     "text": [
      "dy/dx11 =  tensor(44.)\n",
      "dy/dx21 =  tensor(-6.)\n"
     ]
    }
   ],
   "source": [
    "# Simple network backpropagation example\n",
    "x11 = torch.tensor(2.0, requires_grad=True)\n",
    "x21 = torch.tensor(3.0, requires_grad=True)\n",
    "x12 = 5*x11 - 3*x21\n",
    "x22 = 2*x11**2 + 2*x21\n",
    "y = 4*x12 + 3*x22\n",
    "y.backward()\n",
    "print(\"dy/dx11 = \", x11.grad)\n",
    "print(\"dy/dx21 = \", x21.grad)"
   ]
  },
  {
   "cell_type": "code",
   "execution_count": null,
   "id": "ea4eb167",
   "metadata": {},
   "outputs": [],
   "source": []
  }
 ],
 "metadata": {
  "kernelspec": {
   "display_name": ".venv",
   "language": "python",
   "name": "python3"
  },
  "language_info": {
   "codemirror_mode": {
    "name": "ipython",
    "version": 3
   },
   "file_extension": ".py",
   "mimetype": "text/x-python",
   "name": "python",
   "nbconvert_exporter": "python",
   "pygments_lexer": "ipython3",
   "version": "3.12.7"
  }
 },
 "nbformat": 4,
 "nbformat_minor": 5
}
